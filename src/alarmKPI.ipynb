{
 "cells": [
  {
   "cell_type": "markdown",
   "metadata": {},
   "source": [
    "## Find total number of alarms of priority 1, 2 and 3\n",
    "Input:\n",
    "- Events last 12 hours\n",
    "- Granularity of 10 minutes\n",
    "Output:\n",
    "- Total number of alarms (of each priority) in each 10 min time slot\n",
    "- For each 10 min slot; percentage of 12-hour average"
   ]
  },
  {
   "cell_type": "code",
   "execution_count": 111,
   "metadata": {},
   "outputs": [],
   "source": [
    "from initialize import initialize_client\n",
    "from datetime import datetime, timedelta, timezone\n",
    "import pytz\n",
    "import pandas as pd\n",
    "import numpy as np\n",
    "import matplotlib.pyplot as plt\n",
    "from matplotlib.lines import Line2D\n",
    "import os\n",
    "import re\n",
    "import ast\n",
    "import json"
   ]
  },
  {
   "cell_type": "code",
   "execution_count": 112,
   "metadata": {},
   "outputs": [],
   "source": [
    "client = initialize_client(\"prod\", True)"
   ]
  },
  {
   "cell_type": "markdown",
   "metadata": {},
   "source": [
    "### 1. Filter for 12 hour period"
   ]
  },
  {
   "cell_type": "code",
   "execution_count": 113,
   "metadata": {},
   "outputs": [],
   "source": [
    "end_date = datetime(2023, 11, 3, tzinfo=pytz.utc)\n",
    "hours_offset = 2 if end_date.month < 10 and end_date.month > 3 else 1\n",
    "\n",
    "end_date = end_date - timedelta(hours=hours_offset) # Data in CDF is one hour (two if summer time) behind data in source system: add one hour to get mathcing timestamps\n",
    "twelve_hours_ago = end_date - pd.Timedelta(hours=12)\n",
    "start_time_sec = (twelve_hours_ago - datetime(1970, 1, 1, tzinfo=pytz.utc)).total_seconds() * 1000 # convert from \"seconds since epoch\" to \"milliseconds since epoch\"\n",
    "end_time_sec = (end_date - datetime(1970, 1, 1, tzinfo=pytz.utc)).total_seconds() * 1000"
   ]
  },
  {
   "cell_type": "code",
   "execution_count": 114,
   "metadata": {},
   "outputs": [],
   "source": [
    "def df_with_metadata(df, col_name):\n",
    "    \"\"\"Flatten content in metadata column into dataframe\n",
    "\n",
    "    Args:\n",
    "        df (pd.DataFrame): dataframe to be merged\n",
    "        col_name (str): name of metadata column\n",
    "\n",
    "    Returns:\n",
    "        pd.DataFrame: new, flattened dataframe\n",
    "    \"\"\"\n",
    "    df_metadata = pd.DataFrame(df[col_name].to_list())\n",
    "    df_metadata[\"external_id\"] = df[\"external_id\"].values\n",
    "    df = df.drop([col_name], axis=1)\n",
    "    df = pd.merge(df, df_metadata, on=[\"external_id\"])\n",
    "    if \"asset_ids\" in df:\n",
    "        df[\"asset_ids\"] = df[\"asset_ids\"].apply(lambda x: x[0] if isinstance(x,list) else x)\n",
    "    return df"
   ]
  },
  {
   "cell_type": "code",
   "execution_count": 115,
   "metadata": {},
   "outputs": [
    {
     "name": "stdout",
     "output_type": "stream",
     "text": [
      "Number of alarm events in this period: 9479\n"
     ]
    }
   ],
   "source": [
    "opc_ua_val_id = 140572846698809\n",
    "priority_1 = [*list(range(901,910))]\n",
    "priority_2 = [*list(range(801,810))]\n",
    "priority_3 = [*list(range(701,710))]\n",
    "\n",
    "alarm_events_orig = pd.DataFrame()\n",
    "for sev_pri in (priority_1 + priority_2 + priority_3):\n",
    "    # Extract from column \"Severity\"\n",
    "    pri_events_A = client.events.list(data_set_ids=opc_ua_val_id, metadata={\"Severity\":sev_pri}, limit=-1,\n",
    "                                    start_time={\"min\":int(start_time_sec), \"max\":int(end_time_sec)}).to_pandas()\n",
    "    if not pri_events_A.empty:\n",
    "        pri_events_A = df_with_metadata(pri_events_A, \"metadata\")\n",
    "    # Extract from column \"severity\"\n",
    "    pri_events_B = client.events.list(data_set_ids=opc_ua_val_id, metadata={\"severity\":sev_pri}, limit=-1,\n",
    "                                    start_time={\"min\":int(start_time_sec), \"max\":int(end_time_sec)}).to_pandas()\n",
    "    if not pri_events_B.empty:\n",
    "        pri_events_B = df_with_metadata(pri_events_B, \"metadata\")\n",
    "\n",
    "    pri_events = (pd.concat([pri_events_A, pri_events_B], ignore_index=True, sort=False)).drop_duplicates()\n",
    "    alarm_events_orig = pd.concat([alarm_events_orig, pri_events])\n",
    "\n",
    "# alarm_events = alarm_events[alarm_events[\"AlarmState\"] != \"SLV\"] # Omit shelved alarms\n",
    "\n",
    "print(f\"Number of alarm events in this period: {len(alarm_events_orig)}\")\n",
    "# pd.to_datetime(1696482499768/1000, unit=\"ms\") # format is in MILLISECONDS since epoch, not SECONDS since epoch"
   ]
  },
  {
   "cell_type": "code",
   "execution_count": 116,
   "metadata": {},
   "outputs": [],
   "source": [
    "alarm_events = alarm_events_orig.copy()\n",
    "alarm_events[\"EventData\"] = alarm_events[\"EventData\"].apply(lambda x: x.replace(\"{\",\"\").replace(\"}\",\"\").replace(\"'\",\"\"))\n",
    "alarm_events[\"EventData\"] = alarm_events[\"EventData\"].apply(lambda x: ast.literal_eval(x.replace(\"[\",\"{\").replace(\"]\",\"}\")))"
   ]
  },
  {
   "cell_type": "code",
   "execution_count": 117,
   "metadata": {},
   "outputs": [],
   "source": [
    "alarm_events = df_with_metadata(alarm_events, \"EventData\")"
   ]
  },
  {
   "cell_type": "code",
   "execution_count": 118,
   "metadata": {},
   "outputs": [
    {
     "name": "stdout",
     "output_type": "stream",
     "text": [
      "Number of alarms after filtering: 733\n"
     ]
    }
   ],
   "source": [
    "if \"newState\" not in alarm_events.columns: # Use columns names from old version\n",
    "    suffix = \"_x\"\n",
    "else:\n",
    "    suffix = \"\"\n",
    "\n",
    "newState_3_str = alarm_events[\"newState\"+suffix] == \"3\"\n",
    "newState_3_int = alarm_events[\"newState\"+suffix] == 3\n",
    "filter_newState = newState_3_str | newState_3_int\n",
    "\n",
    "alarmState_ACT = alarm_events[\"AlarmState\"+suffix] == \"ACT\"\n",
    "alarmState_ABL = alarm_events[\"AlarmState\"+suffix] == \"ABL\"\n",
    "alarmState_NaN = alarm_events[\"AlarmState\"+suffix].isna()\n",
    "# newState_7_str = alarm_events[\"newState\"+suffix] == \"7\"\n",
    "# newState_7_int = alarm_events[\"newState\"+suffix] == 7\n",
    "# filter_alarmState = alarmState_ACT & (~newState_7_str | ~newState_7_int)\n",
    "shelved = alarm_events[\"Shelved\"+suffix].replace(\"False\", False) \\\n",
    "                                        .replace(\"True\", True) \\\n",
    "                                        .replace(np.nan, False)\n",
    "\n",
    "filter_alarm = filter_newState & (alarmState_ACT | alarmState_NaN | alarmState_ABL) & (shelved == False) #| filter_alarmState\n",
    "alarm_events = alarm_events[filter_alarm]\n",
    "print(f\"Number of alarms after filtering: {len(alarm_events)}\")"
   ]
  },
  {
   "cell_type": "code",
   "execution_count": 119,
   "metadata": {},
   "outputs": [],
   "source": [
    "# Check that all events are within desired time frame\n",
    "assert(min(alarm_events[\"start_time\"]) >= start_time_sec and\n",
    "       max(alarm_events[\"start_time\"]) <= end_time_sec)"
   ]
  },
  {
   "cell_type": "markdown",
   "metadata": {},
   "source": [
    "#### Replace NaN values for severity and priority, where possible"
   ]
  },
  {
   "cell_type": "code",
   "execution_count": 120,
   "metadata": {},
   "outputs": [],
   "source": [
    "def replace_nan_cols(df, nan_col, other_col):\n",
    "    if nan_col in df and other_col in df:\n",
    "        df = df.copy()\n",
    "        nan_rows = df[nan_col].isna() & df[other_col].notna()\n",
    "        df.loc[nan_rows, nan_col] = df[nan_rows][other_col]\n",
    "    return df"
   ]
  },
  {
   "cell_type": "code",
   "execution_count": 121,
   "metadata": {},
   "outputs": [
    {
     "name": "stderr",
     "output_type": "stream",
     "text": [
      "C:\\Users\\vetnev\\AppData\\Local\\Temp\\ipykernel_18768\\2509294901.py:5: FutureWarning: Setting an item of incompatible dtype is deprecated and will raise in a future error of pandas. Value '[]' has dtype incompatible with int64, please explicitly cast to a compatible dtype first.\n",
      "  df.loc[nan_rows, nan_col] = df[nan_rows][other_col]\n"
     ]
    }
   ],
   "source": [
    "alarm_events = replace_nan_cols(alarm_events, \"Severity\"+suffix, \"severity\"+suffix)\n",
    "alarm_events = replace_nan_cols(alarm_events, \"severity\"+suffix, \"Severity\"+suffix)\n",
    "alarm_events = replace_nan_cols(alarm_events, \"priorityLevel\"+suffix, \"PriorityLevel\"+suffix)\n",
    "alarm_events = replace_nan_cols(alarm_events, \"PriorityLevel\"+suffix, \"priorityLevel\"+suffix)"
   ]
  },
  {
   "cell_type": "code",
   "execution_count": 122,
   "metadata": {},
   "outputs": [],
   "source": [
    "default_col_name = lambda name: name if name in alarm_events.columns else name[0].lower() + name[1:]\n",
    "pri_col = default_col_name(\"PriorityLevel\"+suffix)\n",
    "sev_col = default_col_name(\"Severity\"+suffix)"
   ]
  },
  {
   "cell_type": "code",
   "execution_count": 123,
   "metadata": {},
   "outputs": [
    {
     "data": {
      "text/html": [
       "<div>\n",
       "<style scoped>\n",
       "    .dataframe tbody tr th:only-of-type {\n",
       "        vertical-align: middle;\n",
       "    }\n",
       "\n",
       "    .dataframe tbody tr th {\n",
       "        vertical-align: top;\n",
       "    }\n",
       "\n",
       "    .dataframe thead th {\n",
       "        text-align: right;\n",
       "    }\n",
       "</style>\n",
       "<table border=\"1\" class=\"dataframe\">\n",
       "  <thead>\n",
       "    <tr style=\"text-align: right;\">\n",
       "      <th></th>\n",
       "      <th>PriorityLevel</th>\n",
       "      <th>Severity</th>\n",
       "    </tr>\n",
       "  </thead>\n",
       "  <tbody>\n",
       "    <tr>\n",
       "      <th>9467</th>\n",
       "      <td>3</td>\n",
       "      <td>709</td>\n",
       "    </tr>\n",
       "    <tr>\n",
       "      <th>9469</th>\n",
       "      <td>3</td>\n",
       "      <td>709</td>\n",
       "    </tr>\n",
       "    <tr>\n",
       "      <th>9473</th>\n",
       "      <td>3</td>\n",
       "      <td>709</td>\n",
       "    </tr>\n",
       "    <tr>\n",
       "      <th>9476</th>\n",
       "      <td>3</td>\n",
       "      <td>709</td>\n",
       "    </tr>\n",
       "    <tr>\n",
       "      <th>9478</th>\n",
       "      <td>3</td>\n",
       "      <td>709</td>\n",
       "    </tr>\n",
       "  </tbody>\n",
       "</table>\n",
       "</div>"
      ],
      "text/plain": [
       "      PriorityLevel  Severity\n",
       "9467              3       709\n",
       "9469              3       709\n",
       "9473              3       709\n",
       "9476              3       709\n",
       "9478              3       709"
      ]
     },
     "execution_count": 123,
     "metadata": {},
     "output_type": "execute_result"
    }
   ],
   "source": [
    "sev2pri = {str(pri):str(i+1) for i, priority in enumerate([priority_1, priority_2, priority_3]) for pri in priority}\n",
    "\n",
    "nan_mask = alarm_events[pri_col].isna() & alarm_events[sev_col].notna() # severity given but not priority\n",
    "nan_rows = nan_mask[nan_mask].index\n",
    "# Set priority level if missing\n",
    "for row in nan_rows:\n",
    "    severity = alarm_events[alarm_events.index == row][sev_col]\n",
    "    alarm_events.loc[alarm_events.index == row, pri_col] = sev2pri[severity.iloc[0]]\n",
    "\n",
    "alarm_events[[pri_col, sev_col]] = alarm_events[[pri_col, sev_col]].astype(int)\n",
    "# Some alarms are registered multiple times - drop duplicates:\n",
    "# alarm_events = alarm_events.drop_duplicates(subset=[\"SourceName\", \"start_time\",\n",
    "#                                                     \"description\", pri_col, sev_col])\n",
    "alarm_events[[pri_col, sev_col]].tail()"
   ]
  },
  {
   "cell_type": "markdown",
   "metadata": {},
   "source": [
    "### 2. Count number of alarms for each severity"
   ]
  },
  {
   "cell_type": "code",
   "execution_count": 124,
   "metadata": {},
   "outputs": [],
   "source": [
    "priority_count = alarm_events[sev_col].value_counts()\n",
    "priority_count = priority_count.sort_index()\n",
    "pri_1_counts = priority_count.filter(regex=\"9.*\")\n",
    "pri_2_counts = priority_count.filter(regex=\"8.*\")\n",
    "pri_3_counts = priority_count.filter(regex=\"7.*\")"
   ]
  },
  {
   "cell_type": "code",
   "execution_count": 125,
   "metadata": {},
   "outputs": [],
   "source": [
    "def assign_color(priority):\n",
    "    first_digit = str(priority).split()[0][0]  # Extract the first digit from the key\n",
    "    if first_digit == '9':\n",
    "        return ['1','r']  # Red for priority 1\n",
    "    elif first_digit == '8':\n",
    "        return ['2','g']  # Green for priority 2\n",
    "    elif first_digit == '7':\n",
    "        return ['3','b']  # Blue for priority 3\n",
    "    else:\n",
    "        return [first_digit,'gray']  # Default color for other cases"
   ]
  },
  {
   "cell_type": "code",
   "execution_count": 126,
   "metadata": {},
   "outputs": [
    {
     "data": {
      "image/png": "[encoded data removed]",
      "text/plain": [
       "<Figure size 640x480 with 1 Axes>"
      ]
     },
     "metadata": {},
     "output_type": "display_data"
    }
   ],
   "source": [
    "priority_colors = np.array([assign_color(pri) for pri in priority_count.index])\n",
    "ax = priority_count.plot(kind=\"bar\", title=\"Number of alarms from priority groups\",\n",
    "                           color=priority_colors[:,1])\n",
    "\n",
    "unique_pri = np.unique(priority_colors, axis=0)\n",
    "legend_elements = [Line2D([0], [0], marker='o', color='w', label=f'Priority {pri[0]}', markerfacecolor=col) for pri, col in zip(unique_pri[:,0], unique_pri[:,1])]\n",
    "ax.legend(handles=legend_elements)\n",
    "\n",
    "plt.show()"
   ]
  },
  {
   "cell_type": "code",
   "execution_count": 127,
   "metadata": {},
   "outputs": [],
   "source": [
    "alarm_events[\"time\"] = pd.to_datetime(alarm_events[\"start_time\"], unit=\"ms\").values\n",
    "alarm_events[\"time\"] = alarm_events[\"time\"] + timedelta(hours=hours_offset) # Convert to time zone used in source system (NB: 2 hours for summer time!)\n",
    "alarm_events = alarm_events.set_index(\"time\").sort_index()"
   ]
  },
  {
   "cell_type": "markdown",
   "metadata": {},
   "source": [
    "### 3. Group by priority"
   ]
  },
  {
   "cell_type": "code",
   "execution_count": 128,
   "metadata": {},
   "outputs": [],
   "source": [
    "alarm_events_10min = alarm_events.resample(\"10T\")\n",
    "all_10mins = alarm_events_10min.count().index\n",
    "\n",
    "alarms2tag = alarm_events_10min[\"SourceName\"].value_counts() # tags for alarms for each 10 min frame"
   ]
  },
  {
   "cell_type": "code",
   "execution_count": 129,
   "metadata": {},
   "outputs": [],
   "source": [
    "num_alarms_10min = alarm_events.groupby(pri_col).resample(\"10T\").count()[\"external_id\"]\n",
    "num_alarms_10min = pd.DataFrame(num_alarms_10min, index=num_alarms_10min.index).sort_index(level=\"time\")\n",
    "num_alarms_10min = num_alarms_10min.rename(columns={\"external_id\":\"count\"})"
   ]
  },
  {
   "cell_type": "markdown",
   "metadata": {},
   "source": [
    "### 4. Make table counting number of pri 1, 2 and 3 alarms each 10 min slot"
   ]
  },
  {
   "cell_type": "code",
   "execution_count": 130,
   "metadata": {},
   "outputs": [
    {
     "data": {
      "text/html": [
       "<div>\n",
       "<style scoped>\n",
       "    .dataframe tbody tr th:only-of-type {\n",
       "        vertical-align: middle;\n",
       "    }\n",
       "\n",
       "    .dataframe tbody tr th {\n",
       "        vertical-align: top;\n",
       "    }\n",
       "\n",
       "    .dataframe thead th {\n",
       "        text-align: right;\n",
       "    }\n",
       "</style>\n",
       "<table border=\"1\" class=\"dataframe\">\n",
       "  <thead>\n",
       "    <tr style=\"text-align: right;\">\n",
       "      <th></th>\n",
       "      <th>end_time</th>\n",
       "      <th>priority 1</th>\n",
       "      <th>pri1 / min</th>\n",
       "      <th>% of total pri1</th>\n",
       "      <th>priority 2</th>\n",
       "      <th>pri2 / min</th>\n",
       "      <th>% of total pri2</th>\n",
       "      <th>priority 3</th>\n",
       "      <th>pri3 / min</th>\n",
       "      <th>% of total pri3</th>\n",
       "    </tr>\n",
       "    <tr>\n",
       "      <th>start_time</th>\n",
       "      <th></th>\n",
       "      <th></th>\n",
       "      <th></th>\n",
       "      <th></th>\n",
       "      <th></th>\n",
       "      <th></th>\n",
       "      <th></th>\n",
       "      <th></th>\n",
       "      <th></th>\n",
       "      <th></th>\n",
       "    </tr>\n",
       "  </thead>\n",
       "  <tbody>\n",
       "    <tr>\n",
       "      <th>2023-11-02 12:00:00</th>\n",
       "      <td>2023-11-02 12:10:00</td>\n",
       "      <td>0</td>\n",
       "      <td>0.0</td>\n",
       "      <td>0.0</td>\n",
       "      <td>14</td>\n",
       "      <td>1.4</td>\n",
       "      <td>4.79</td>\n",
       "      <td>1</td>\n",
       "      <td>0.1</td>\n",
       "      <td>0.31</td>\n",
       "    </tr>\n",
       "    <tr>\n",
       "      <th>2023-11-02 12:10:00</th>\n",
       "      <td>2023-11-02 12:20:00</td>\n",
       "      <td>0</td>\n",
       "      <td>0.0</td>\n",
       "      <td>0.0</td>\n",
       "      <td>5</td>\n",
       "      <td>0.5</td>\n",
       "      <td>1.71</td>\n",
       "      <td>8</td>\n",
       "      <td>0.8</td>\n",
       "      <td>2.45</td>\n",
       "    </tr>\n",
       "    <tr>\n",
       "      <th>2023-11-02 12:20:00</th>\n",
       "      <td>2023-11-02 12:30:00</td>\n",
       "      <td>0</td>\n",
       "      <td>0.0</td>\n",
       "      <td>0.0</td>\n",
       "      <td>10</td>\n",
       "      <td>1.0</td>\n",
       "      <td>3.42</td>\n",
       "      <td>2</td>\n",
       "      <td>0.2</td>\n",
       "      <td>0.61</td>\n",
       "    </tr>\n",
       "    <tr>\n",
       "      <th>2023-11-02 12:30:00</th>\n",
       "      <td>2023-11-02 12:40:00</td>\n",
       "      <td>0</td>\n",
       "      <td>0.0</td>\n",
       "      <td>0.0</td>\n",
       "      <td>7</td>\n",
       "      <td>0.7</td>\n",
       "      <td>2.40</td>\n",
       "      <td>5</td>\n",
       "      <td>0.5</td>\n",
       "      <td>1.53</td>\n",
       "    </tr>\n",
       "    <tr>\n",
       "      <th>2023-11-02 12:40:00</th>\n",
       "      <td>2023-11-02 12:50:00</td>\n",
       "      <td>0</td>\n",
       "      <td>0.0</td>\n",
       "      <td>0.0</td>\n",
       "      <td>3</td>\n",
       "      <td>0.3</td>\n",
       "      <td>1.03</td>\n",
       "      <td>2</td>\n",
       "      <td>0.2</td>\n",
       "      <td>0.61</td>\n",
       "    </tr>\n",
       "  </tbody>\n",
       "</table>\n",
       "</div>"
      ],
      "text/plain": [
       "                               end_time  priority 1  pri1 / min  \\\n",
       "start_time                                                        \n",
       "2023-11-02 12:00:00 2023-11-02 12:10:00           0         0.0   \n",
       "2023-11-02 12:10:00 2023-11-02 12:20:00           0         0.0   \n",
       "2023-11-02 12:20:00 2023-11-02 12:30:00           0         0.0   \n",
       "2023-11-02 12:30:00 2023-11-02 12:40:00           0         0.0   \n",
       "2023-11-02 12:40:00 2023-11-02 12:50:00           0         0.0   \n",
       "\n",
       "                     % of total pri1  priority 2  pri2 / min  % of total pri2  \\\n",
       "start_time                                                                      \n",
       "2023-11-02 12:00:00              0.0          14         1.4             4.79   \n",
       "2023-11-02 12:10:00              0.0           5         0.5             1.71   \n",
       "2023-11-02 12:20:00              0.0          10         1.0             3.42   \n",
       "2023-11-02 12:30:00              0.0           7         0.7             2.40   \n",
       "2023-11-02 12:40:00              0.0           3         0.3             1.03   \n",
       "\n",
       "                     priority 3  pri3 / min  % of total pri3  \n",
       "start_time                                                    \n",
       "2023-11-02 12:00:00           1         0.1             0.31  \n",
       "2023-11-02 12:10:00           8         0.8             2.45  \n",
       "2023-11-02 12:20:00           2         0.2             0.61  \n",
       "2023-11-02 12:30:00           5         0.5             1.53  \n",
       "2023-11-02 12:40:00           2         0.2             0.61  "
      ]
     },
     "execution_count": 130,
     "metadata": {},
     "output_type": "execute_result"
    }
   ],
   "source": [
    "num_alarms = pd.DataFrame(index=all_10mins)\n",
    "\n",
    "num_alarms = num_alarms.reset_index()\n",
    "num_alarms = num_alarms.rename(columns={\"time\":\"start_time\"})\n",
    "num_alarms[\"end_time\"] = num_alarms[\"start_time\"] + timedelta(minutes=10)\n",
    "\n",
    "for pri in [1,2,3]:\n",
    "    num_alarms[f\"priority {pri}\"] = np.zeros(len(all_10mins))\n",
    "    num_pri_alarms = num_alarms_10min[num_alarms_10min.index.get_level_values(pri_col) == pri][\"count\"]\n",
    "    time_index = num_alarms_10min.index.get_level_values(\"time\").unique()\n",
    "    pri_index = time_index[time_index.isin(num_pri_alarms.index.get_level_values(\"time\"))] # unique to omit duplicates from multiindex\n",
    "    num_alarms.loc[num_alarms[\"start_time\"].isin(pri_index), f\"priority {pri}\"] = num_pri_alarms.values\n",
    "\n",
    "    num_alarms[f\"priority {pri}\"].replace(np.nan, 0, inplace=True) # NaN means no alarms for this priority\n",
    "    num_alarms[f\"priority {pri}\"] = num_alarms[f\"priority {pri}\"].astype(int) # from string to int\n",
    "\n",
    "    num_alarms[f\"pri{pri} / min\"] = num_alarms[f\"priority {pri}\"]/10 # number of alarms of this priority per min for given 10 min period\n",
    "\n",
    "    num_alarms[f\"% of total pri{pri}\"] = round(num_alarms[f\"priority {pri}\"]/num_alarms[f\"priority {pri}\"].sum()*100, 2) # percentage of all priority \"pri\" alarms last 12 hours occurred during 10 min period\n",
    "\n",
    "num_alarms = num_alarms.set_index(\"start_time\")\n",
    "num_alarms.head()\n",
    "# now = pd.Timestamp.now()\n",
    "# now_date = str(now.date()) + \"_\" + str(now.hour) + \"h\" + str(now.minute) + \"m\" + str(now.second) + \"s\"\n",
    "# num_alarms.to_csv(f\"../data/output/num_alarms/last12hours_{now_date}.csv\")"
   ]
  },
  {
   "cell_type": "code",
   "execution_count": 131,
   "metadata": {},
   "outputs": [
    {
     "data": {
      "image/png": "[encoded data removed]",
      "text/plain": [
       "<Figure size 1600x800 with 1 Axes>"
      ]
     },
     "metadata": {},
     "output_type": "display_data"
    }
   ],
   "source": [
    "unique_dates = np.unique(num_alarms.index.date)\n",
    "\n",
    "num_alarms[[\"priority 1\", \"priority 2\", \"priority 3\"]].plot.area(stacked=True,\n",
    "                                                            figsize=[16,8], color=[\"r\", \"g\", \"b\"],\n",
    "                                                            title=f\"Number of alarms each 10 min period for dates {[str(d) for d in unique_dates]}\")\n",
    "\n",
    "plt.show()"
   ]
  },
  {
   "cell_type": "code",
   "execution_count": 132,
   "metadata": {},
   "outputs": [
    {
     "data": {
      "image/png": "[encoded data removed]",
      "text/plain": [
       "<Figure size 1600x800 with 1 Axes>"
      ]
     },
     "metadata": {},
     "output_type": "display_data"
    }
   ],
   "source": [
    "fig, ax = plt.subplots()\n",
    "num_alarms[[\"priority 1\", \"priority 2\", \"priority 3\"]].sum(axis=1).plot.bar(figsize=[16,8], ax=ax)\n",
    "xtick_pos = np.arange(0, len(num_alarms), int(len(num_alarms)/4))\n",
    "xtick_lab = num_alarms.index[::int(len(num_alarms)/4)]\n",
    "plt.xticks(xtick_pos, xtick_lab, rotation=0)\n",
    "# ax.set_xticks(num_alarms.index)\n",
    "plt.show()"
   ]
  },
  {
   "cell_type": "code",
   "execution_count": 133,
   "metadata": {},
   "outputs": [],
   "source": [
    "true_date = end_date + timedelta(hours=hours_offset) # Convert back to actual date specified in ABB\n",
    "YYYY = true_date.year\n",
    "MM = f\"0{str(true_date.month)}\" if len(str(true_date.month)) == 1 else true_date.month\n",
    "DD = f\"0{str(true_date.day)}\" if len(str(true_date.day)) == 1 else true_date.day\n",
    "abb_pri123_alarms = pd.read_excel(f\"../data/Alarm Analysis - Initiated Alarms_{YYYY}{MM}{DD}.xlsx\", sheet_name=\"Data\", usecols=[\"Start Time\", \"Stop Time\", \"Number of alarms\"])"
   ]
  },
  {
   "cell_type": "code",
   "execution_count": 134,
   "metadata": {},
   "outputs": [],
   "source": [
    "num_alarms[\"CDF\"] = num_alarms[[\"priority 1\", \"priority 2\", \"priority 3\"]].sum(axis=1)\n",
    "num_alarms[\"ABB\"] = abb_pri123_alarms[\"Number of alarms\"].values"
   ]
  },
  {
   "cell_type": "code",
   "execution_count": 135,
   "metadata": {},
   "outputs": [
    {
     "data": {
      "text/html": [
       "<div>\n",
       "<style scoped>\n",
       "    .dataframe tbody tr th:only-of-type {\n",
       "        vertical-align: middle;\n",
       "    }\n",
       "\n",
       "    .dataframe tbody tr th {\n",
       "        vertical-align: top;\n",
       "    }\n",
       "\n",
       "    .dataframe thead th {\n",
       "        text-align: right;\n",
       "    }\n",
       "</style>\n",
       "<table border=\"1\" class=\"dataframe\">\n",
       "  <thead>\n",
       "    <tr style=\"text-align: right;\">\n",
       "      <th></th>\n",
       "      <th>CDF</th>\n",
       "      <th>ABB</th>\n",
       "    </tr>\n",
       "    <tr>\n",
       "      <th>start_time</th>\n",
       "      <th></th>\n",
       "      <th></th>\n",
       "    </tr>\n",
       "  </thead>\n",
       "  <tbody>\n",
       "    <tr>\n",
       "      <th>2023-11-02 14:00:00</th>\n",
       "      <td>5</td>\n",
       "      <td>6</td>\n",
       "    </tr>\n",
       "    <tr>\n",
       "      <th>2023-11-02 14:50:00</th>\n",
       "      <td>19</td>\n",
       "      <td>20</td>\n",
       "    </tr>\n",
       "    <tr>\n",
       "      <th>2023-11-02 15:00:00</th>\n",
       "      <td>6</td>\n",
       "      <td>5</td>\n",
       "    </tr>\n",
       "    <tr>\n",
       "      <th>2023-11-02 15:10:00</th>\n",
       "      <td>13</td>\n",
       "      <td>11</td>\n",
       "    </tr>\n",
       "    <tr>\n",
       "      <th>2023-11-02 15:20:00</th>\n",
       "      <td>16</td>\n",
       "      <td>13</td>\n",
       "    </tr>\n",
       "    <tr>\n",
       "      <th>2023-11-02 15:40:00</th>\n",
       "      <td>10</td>\n",
       "      <td>11</td>\n",
       "    </tr>\n",
       "    <tr>\n",
       "      <th>2023-11-02 15:50:00</th>\n",
       "      <td>65</td>\n",
       "      <td>105</td>\n",
       "    </tr>\n",
       "    <tr>\n",
       "      <th>2023-11-02 16:00:00</th>\n",
       "      <td>42</td>\n",
       "      <td>43</td>\n",
       "    </tr>\n",
       "    <tr>\n",
       "      <th>2023-11-02 16:40:00</th>\n",
       "      <td>5</td>\n",
       "      <td>4</td>\n",
       "    </tr>\n",
       "    <tr>\n",
       "      <th>2023-11-02 16:50:00</th>\n",
       "      <td>11</td>\n",
       "      <td>7</td>\n",
       "    </tr>\n",
       "    <tr>\n",
       "      <th>2023-11-02 17:00:00</th>\n",
       "      <td>13</td>\n",
       "      <td>3</td>\n",
       "    </tr>\n",
       "    <tr>\n",
       "      <th>2023-11-02 17:10:00</th>\n",
       "      <td>4</td>\n",
       "      <td>1</td>\n",
       "    </tr>\n",
       "    <tr>\n",
       "      <th>2023-11-02 17:20:00</th>\n",
       "      <td>10</td>\n",
       "      <td>4</td>\n",
       "    </tr>\n",
       "    <tr>\n",
       "      <th>2023-11-02 17:30:00</th>\n",
       "      <td>13</td>\n",
       "      <td>9</td>\n",
       "    </tr>\n",
       "    <tr>\n",
       "      <th>2023-11-02 17:40:00</th>\n",
       "      <td>21</td>\n",
       "      <td>14</td>\n",
       "    </tr>\n",
       "  </tbody>\n",
       "</table>\n",
       "</div>"
      ],
      "text/plain": [
       "                     CDF  ABB\n",
       "start_time                   \n",
       "2023-11-02 14:00:00    5    6\n",
       "2023-11-02 14:50:00   19   20\n",
       "2023-11-02 15:00:00    6    5\n",
       "2023-11-02 15:10:00   13   11\n",
       "2023-11-02 15:20:00   16   13\n",
       "2023-11-02 15:40:00   10   11\n",
       "2023-11-02 15:50:00   65  105\n",
       "2023-11-02 16:00:00   42   43\n",
       "2023-11-02 16:40:00    5    4\n",
       "2023-11-02 16:50:00   11    7\n",
       "2023-11-02 17:00:00   13    3\n",
       "2023-11-02 17:10:00    4    1\n",
       "2023-11-02 17:20:00   10    4\n",
       "2023-11-02 17:30:00   13    9\n",
       "2023-11-02 17:40:00   21   14"
      ]
     },
     "execution_count": 135,
     "metadata": {},
     "output_type": "execute_result"
    }
   ],
   "source": [
    "deviation = num_alarms[\"CDF\"] != num_alarms[\"ABB\"]\n",
    "alarms_deviation = num_alarms[deviation][[\"CDF\", \"ABB\"]]\n",
    "alarms_deviation"
   ]
  },
  {
   "cell_type": "code",
   "execution_count": 144,
   "metadata": {},
   "outputs": [
    {
     "data": {
      "text/plain": [
       "time                 SourceName      \n",
       "2023-11-02 15:00:00  19-ZT-111151        2\n",
       "                     49-XS-97614-02      2\n",
       "                     65-PIC-91726        1\n",
       "                     49-FE-G-I15-045R    1\n",
       "Name: count, dtype: int64"
      ]
     },
     "execution_count": 144,
     "metadata": {},
     "output_type": "execute_result"
    }
   ],
   "source": [
    "alarms2tag[alarms2tag.index.get_level_values(\"time\") == alarms_deviation.index[2]]\n",
    "# alarms2tag[alarms2tag.index.get_level_values(\"time\") == \"2023-10-31 18:50:00\"]\n"
   ]
  },
  {
   "cell_type": "code",
   "execution_count": 137,
   "metadata": {},
   "outputs": [],
   "source": [
    "# test_df[test_df[\"SourceName\"] == \"x49_NXI_84080\"][\"EventData\"].iloc[2]\n",
    "with pd.ExcelWriter(f\"../data/alarms2tag_{YYYY}{MM}{DD}.xlsx\") as writer:\n",
    "    alarms_deviation.to_excel(writer, sheet_name=\"Alarms deviation\")\n",
    "\n",
    "    for i in range(len(alarms_deviation)):\n",
    "        start_dev = alarms_deviation.index[i]\n",
    "        end_dev = start_dev + timedelta(minutes=10)\n",
    "        start_mask = alarm_events.index >= start_dev\n",
    "        end_mask = alarm_events.index < end_dev\n",
    "        events_dev = alarm_events[start_mask & end_mask]\n",
    "        events_dev.to_excel(writer, sheet_name=f\"Period {i+1}\")"
   ]
  },
  {
   "cell_type": "markdown",
   "metadata": {},
   "source": [
    "### Get ALL events in 12 hour frame"
   ]
  },
  {
   "cell_type": "code",
   "execution_count": 138,
   "metadata": {},
   "outputs": [],
   "source": [
    "df_test = client.events.list(data_set_ids=opc_ua_val_id, limit=-1,\n",
    "                                    start_time={\"min\":int(start_time_sec), \"max\":int(end_time_sec)}).to_pandas()"
   ]
  },
  {
   "cell_type": "code",
   "execution_count": 139,
   "metadata": {},
   "outputs": [],
   "source": [
    "df_test = df_with_metadata(df_test, \"metadata\")\n",
    "df_test[\"EventData\"] = df_test[\"EventData\"].apply(lambda x: x.replace(\"{\",\"\").replace(\"}\",\"\").replace(\"'\",\"\"))\n",
    "df_test[\"EventData\"] = df_test[\"EventData\"].apply(lambda x: ast.literal_eval(x.replace(\"[\",\"{\").replace(\"]\",\"}\")))\n",
    "df_test = df_with_metadata(df_test, \"EventData\")"
   ]
  },
  {
   "cell_type": "code",
   "execution_count": 140,
   "metadata": {},
   "outputs": [],
   "source": [
    "df_test[\"time\"] = pd.to_datetime(df_test[\"start_time\"], unit=\"ms\").values\n",
    "df_test[\"time\"] = df_test[\"time\"] + timedelta(hours=hours_offset) # Convert to time zone used in source system (NB: 2 hours for summer time!)\n",
    "df_test = df_test.set_index(\"time\").sort_index()"
   ]
  },
  {
   "cell_type": "code",
   "execution_count": 141,
   "metadata": {},
   "outputs": [
    {
     "data": {
      "text/html": [
       "<div>\n",
       "<style scoped>\n",
       "    .dataframe tbody tr th:only-of-type {\n",
       "        vertical-align: middle;\n",
       "    }\n",
       "\n",
       "    .dataframe tbody tr th {\n",
       "        vertical-align: top;\n",
       "    }\n",
       "\n",
       "    .dataframe thead th {\n",
       "        text-align: right;\n",
       "    }\n",
       "</style>\n",
       "<table border=\"1\" class=\"dataframe\">\n",
       "  <thead>\n",
       "    <tr style=\"text-align: right;\">\n",
       "      <th>time</th>\n",
       "    </tr>\n",
       "  </thead>\n",
       "  <tbody>\n",
       "    <tr>\n",
       "      <th>SourceName</th>\n",
       "    </tr>\n",
       "    <tr>\n",
       "      <th>Severity</th>\n",
       "    </tr>\n",
       "    <tr>\n",
       "      <th>newState</th>\n",
       "    </tr>\n",
       "    <tr>\n",
       "      <th>description</th>\n",
       "    </tr>\n",
       "    <tr>\n",
       "      <th>AlarmState</th>\n",
       "    </tr>\n",
       "    <tr>\n",
       "      <th>Shelved</th>\n",
       "    </tr>\n",
       "  </tbody>\n",
       "</table>\n",
       "</div>"
      ],
      "text/plain": [
       "Empty DataFrame\n",
       "Columns: []\n",
       "Index: [SourceName, Severity, newState, description, AlarmState, Shelved]"
      ]
     },
     "execution_count": 141,
     "metadata": {},
     "output_type": "execute_result"
    }
   ],
   "source": [
    "mask1 = df_test.index > \"2023-11-06 12:10:00\"\n",
    "mask2 = df_test.index < \"2023-11-06 12:20:00\"\n",
    "mask3 = df_test[\"Severity\"].astype(int) > 699\n",
    "mask4 = df_test[\"SourceName\"] == \"Valhall_F88\"\n",
    "df_test[mask1 & mask2 & mask3][[\"SourceName\", \"Severity\", \"newState\", \"description\", \"AlarmState\", \"Shelved\"]].iloc[30:50].T"
   ]
  },
  {
   "cell_type": "code",
   "execution_count": 142,
   "metadata": {},
   "outputs": [
    {
     "data": {
      "text/html": [
       "<div>\n",
       "<style scoped>\n",
       "    .dataframe tbody tr th:only-of-type {\n",
       "        vertical-align: middle;\n",
       "    }\n",
       "\n",
       "    .dataframe tbody tr th {\n",
       "        vertical-align: top;\n",
       "    }\n",
       "\n",
       "    .dataframe thead th {\n",
       "        text-align: right;\n",
       "    }\n",
       "</style>\n",
       "<table border=\"1\" class=\"dataframe\">\n",
       "  <thead>\n",
       "    <tr style=\"text-align: right;\">\n",
       "      <th>time</th>\n",
       "      <th>2023-11-02 23:13:33.267</th>\n",
       "      <th>2023-11-02 23:15:18.596</th>\n",
       "      <th>2023-11-02 23:15:41.977</th>\n",
       "      <th>2023-11-02 23:17:38.977</th>\n",
       "      <th>2023-11-02 23:19:42.887</th>\n",
       "    </tr>\n",
       "  </thead>\n",
       "  <tbody>\n",
       "    <tr>\n",
       "      <th>SourceName</th>\n",
       "      <td>81-LT-80539</td>\n",
       "      <td>65-PDIT-171861</td>\n",
       "      <td>65-FT-89623</td>\n",
       "      <td>65-FT-89623</td>\n",
       "      <td>10-PT-180583</td>\n",
       "    </tr>\n",
       "    <tr>\n",
       "      <th>Severity</th>\n",
       "      <td>809</td>\n",
       "      <td>802</td>\n",
       "      <td>802</td>\n",
       "      <td>802</td>\n",
       "      <td>704</td>\n",
       "    </tr>\n",
       "    <tr>\n",
       "      <th>newState</th>\n",
       "      <td>3.0</td>\n",
       "      <td>3.0</td>\n",
       "      <td>3.0</td>\n",
       "      <td>3.0</td>\n",
       "      <td>3.0</td>\n",
       "    </tr>\n",
       "    <tr>\n",
       "      <th>description</th>\n",
       "      <td>70.00 %</td>\n",
       "      <td>Fault</td>\n",
       "      <td>&lt;= 16352.0 m3/h Warning L</td>\n",
       "      <td>&lt;= 16352.0 m3/h Warning L</td>\n",
       "      <td>&lt;= 100.0 barA Warning L</td>\n",
       "    </tr>\n",
       "    <tr>\n",
       "      <th>AlarmState</th>\n",
       "      <td>ACT</td>\n",
       "      <td>ACT</td>\n",
       "      <td>ACT</td>\n",
       "      <td>ACT</td>\n",
       "      <td>ACT</td>\n",
       "    </tr>\n",
       "  </tbody>\n",
       "</table>\n",
       "</div>"
      ],
      "text/plain": [
       "time        2023-11-02 23:13:33.267 2023-11-02 23:15:18.596  \\\n",
       "SourceName              81-LT-80539          65-PDIT-171861   \n",
       "Severity                        809                     802   \n",
       "newState                        3.0                     3.0   \n",
       "description                 70.00 %                   Fault   \n",
       "AlarmState                      ACT                     ACT   \n",
       "\n",
       "time           2023-11-02 23:15:41.977    2023-11-02 23:17:38.977  \\\n",
       "SourceName                 65-FT-89623                65-FT-89623   \n",
       "Severity                           802                        802   \n",
       "newState                           3.0                        3.0   \n",
       "description  <= 16352.0 m3/h Warning L  <= 16352.0 m3/h Warning L   \n",
       "AlarmState                         ACT                        ACT   \n",
       "\n",
       "time         2023-11-02 23:19:42.887  \n",
       "SourceName              10-PT-180583  \n",
       "Severity                         704  \n",
       "newState                         3.0  \n",
       "description  <= 100.0 barA Warning L  \n",
       "AlarmState                       ACT  "
      ]
     },
     "execution_count": 142,
     "metadata": {},
     "output_type": "execute_result"
    }
   ],
   "source": [
    "mask1 = alarm_events.index > \"2023-11-02 23:10:00\"\n",
    "mask2 = alarm_events.index < \"2023-11-02 23:20:00\"\n",
    "alarm_events[mask1 & mask2][[\"SourceName\", \"Severity\", \"newState\", \"description\", \"AlarmState\"]].T\n",
    "# alarm_events[\"AlarmState\"].isna().sum()"
   ]
  },
  {
   "cell_type": "code",
   "execution_count": 143,
   "metadata": {},
   "outputs": [
    {
     "data": {
      "text/plain": [
       "[901, 902, 903, 904, 905, 906, 907, 908, 909]"
      ]
     },
     "execution_count": 143,
     "metadata": {},
     "output_type": "execute_result"
    }
   ],
   "source": [
    "priority_1"
   ]
  }
 ],
 "metadata": {
  "kernelspec": {
   "display_name": "firsttasktest",
   "language": "python",
   "name": "python3"
  },
  "language_info": {
   "codemirror_mode": {
    "name": "ipython",
    "version": 3
   },
   "file_extension": ".py",
   "mimetype": "text/x-python",
   "name": "python",
   "nbconvert_exporter": "python",
   "pygments_lexer": "ipython3",
   "version": "3.9.18"
  },
  "orig_nbformat": 4
 },
 "nbformat": 4,
 "nbformat_minor": 2
}
